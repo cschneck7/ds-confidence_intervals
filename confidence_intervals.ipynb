{
 "cells": [
  {
   "cell_type": "markdown",
   "metadata": {
    "toc": true
   },
   "source": [
    "<h1>Table of Contents<span class=\"tocSkip\"></span></h1>\n",
    "<div class=\"toc\"><ul class=\"toc-item\"><li><span><a href=\"#Confidence-Intervals\" data-toc-modified-id=\"Confidence-Intervals-1\"><span class=\"toc-item-num\">1&nbsp;&nbsp;</span>Confidence Intervals</a></span><ul class=\"toc-item\"><li><span><a href=\"#Learning-Goals\" data-toc-modified-id=\"Learning-Goals-1.1\"><span class=\"toc-item-num\">1.1&nbsp;&nbsp;</span>Learning Goals</a></span></li></ul></li><li><span><a href=\"#Motivation-&amp;-Intuition\" data-toc-modified-id=\"Motivation-&amp;-Intuition-2\"><span class=\"toc-item-num\">2&nbsp;&nbsp;</span>Motivation &amp; Intuition</a></span><ul class=\"toc-item\"><li><span><a href=\"#Balancing-Precision-and-Uncertainty\" data-toc-modified-id=\"Balancing-Precision-and-Uncertainty-2.1\"><span class=\"toc-item-num\">2.1&nbsp;&nbsp;</span>Balancing Precision and Uncertainty</a></span><ul class=\"toc-item\"><li><span><a href=\"#🧠-Knowledge-Check\" data-toc-modified-id=\"🧠-Knowledge-Check-2.1.1\"><span class=\"toc-item-num\">2.1.1&nbsp;&nbsp;</span>🧠 Knowledge Check</a></span></li><li><span><a href=\"#Using-Confidence-Intervals-to-Drive-that-Balance\" data-toc-modified-id=\"Using-Confidence-Intervals-to-Drive-that-Balance-2.1.2\"><span class=\"toc-item-num\">2.1.2&nbsp;&nbsp;</span>Using Confidence Intervals to Drive that Balance</a></span></li><li><span><a href=\"#Scenario:-I-Have-a-Sweet-Tooth-🦷\" data-toc-modified-id=\"Scenario:-I-Have-a-Sweet-Tooth-🦷-2.1.3\"><span class=\"toc-item-num\">2.1.3&nbsp;&nbsp;</span>Scenario: I Have a Sweet Tooth 🦷</a></span><ul class=\"toc-item\"><li><span><a href=\"#Solution\" data-toc-modified-id=\"Solution-2.1.3.1\"><span class=\"toc-item-num\">2.1.3.1&nbsp;&nbsp;</span>Solution</a></span></li></ul></li></ul></li><li><span><a href=\"#Key-Points\" data-toc-modified-id=\"Key-Points-2.2\"><span class=\"toc-item-num\">2.2&nbsp;&nbsp;</span>Key Points</a></span></li></ul></li><li><span><a href=\"#Constructing-Confidence-Intervals\" data-toc-modified-id=\"Constructing-Confidence-Intervals-3\"><span class=\"toc-item-num\">3&nbsp;&nbsp;</span>Constructing Confidence Intervals</a></span><ul class=\"toc-item\"><li><span><a href=\"#Gaussian-Method:-Compare-Sample-with-the-Normal-Curve\" data-toc-modified-id=\"Gaussian-Method:-Compare-Sample-with-the-Normal-Curve-3.1\"><span class=\"toc-item-num\">3.1&nbsp;&nbsp;</span>Gaussian Method: Compare Sample with the Normal Curve</a></span><ul class=\"toc-item\"><li><span><a href=\"#Confidence-Intervals-for-Normally-Distributed-Data\" data-toc-modified-id=\"Confidence-Intervals-for-Normally-Distributed-Data-3.1.1\"><span class=\"toc-item-num\">3.1.1&nbsp;&nbsp;</span>Confidence Intervals for Normally Distributed Data</a></span><ul class=\"toc-item\"><li><span><a href=\"#🧠-Knowledge-Check\" data-toc-modified-id=\"🧠-Knowledge-Check-3.1.1.1\"><span class=\"toc-item-num\">3.1.1.1&nbsp;&nbsp;</span>🧠 Knowledge Check</a></span></li></ul></li></ul></li><li><span><a href=\"#$t$-Distribution-Method:-When-Sample-isn't-Normal\" data-toc-modified-id=\"$t$-Distribution-Method:-When-Sample-isn't-Normal-3.2\"><span class=\"toc-item-num\">3.2&nbsp;&nbsp;</span>$t$-Distribution Method: When Sample isn't Normal</a></span><ul class=\"toc-item\"><li><span><a href=\"#Confidence-Intervals-for-$t$-Distribution\" data-toc-modified-id=\"Confidence-Intervals-for-$t$-Distribution-3.2.1\"><span class=\"toc-item-num\">3.2.1&nbsp;&nbsp;</span>Confidence Intervals for $t$-Distribution</a></span><ul class=\"toc-item\"><li><span><a href=\"#stats.t.interval-Interface\" data-toc-modified-id=\"stats.t.interval-Interface-3.2.1.1\"><span class=\"toc-item-num\">3.2.1.1&nbsp;&nbsp;</span><code>stats.t.interval</code> Interface</a></span></li></ul></li><li><span><a href=\"#$t$-Distribution-Examples\" data-toc-modified-id=\"$t$-Distribution-Examples-3.2.2\"><span class=\"toc-item-num\">3.2.2&nbsp;&nbsp;</span>$t$-Distribution Examples</a></span><ul class=\"toc-item\"><li><span><a href=\"#Generated-Normal-Samples\" data-toc-modified-id=\"Generated-Normal-Samples-3.2.2.1\"><span class=\"toc-item-num\">3.2.2.1&nbsp;&nbsp;</span>Generated Normal Samples</a></span></li><li><span><a href=\"#Scenario\" data-toc-modified-id=\"Scenario-3.2.2.2\"><span class=\"toc-item-num\">3.2.2.2&nbsp;&nbsp;</span>Scenario</a></span></li></ul></li></ul></li></ul></li><li><span><a href=\"#Interpreting-Confidence-Intervals\" data-toc-modified-id=\"Interpreting-Confidence-Intervals-4\"><span class=\"toc-item-num\">4&nbsp;&nbsp;</span>Interpreting Confidence Intervals</a></span><ul class=\"toc-item\"><li><span><a href=\"#Note-on-Notation:\" data-toc-modified-id=\"Note-on-Notation:-4.1\"><span class=\"toc-item-num\">4.1&nbsp;&nbsp;</span>Note on Notation:</a></span></li><li><span><a href=\"#A-Visual-Interpretation-of-CIs\" data-toc-modified-id=\"A-Visual-Interpretation-of-CIs-4.2\"><span class=\"toc-item-num\">4.2&nbsp;&nbsp;</span>A Visual Interpretation of CIs</a></span></li></ul></li><li><span><a href=\"#Exercise-Time-💪🏼\" data-toc-modified-id=\"Exercise-Time-💪🏼-5\"><span class=\"toc-item-num\">5&nbsp;&nbsp;</span>Exercise Time 💪🏼</a></span></li><li><span><a href=\"#Level-Up:-Confidence-Intervals-for-Non-Normally-Distributed-Data\" data-toc-modified-id=\"Level-Up:-Confidence-Intervals-for-Non-Normally-Distributed-Data-6\"><span class=\"toc-item-num\">6&nbsp;&nbsp;</span>Level Up: Confidence Intervals for Non-Normally Distributed Data</a></span></li><li><span><a href=\"#Level-Up:-Bootstrap\" data-toc-modified-id=\"Level-Up:-Bootstrap-7\"><span class=\"toc-item-num\">7&nbsp;&nbsp;</span>Level Up: Bootstrap</a></span><ul class=\"toc-item\"><li><span><a href=\"#Example\" data-toc-modified-id=\"Example-7.1\"><span class=\"toc-item-num\">7.1&nbsp;&nbsp;</span>Example</a></span><ul class=\"toc-item\"><li><span><a href=\"#Finding-the-Confidence-Interval\" data-toc-modified-id=\"Finding-the-Confidence-Interval-7.1.1\"><span class=\"toc-item-num\">7.1.1&nbsp;&nbsp;</span>Finding the Confidence Interval</a></span></li></ul></li></ul></li></ul></div>"
   ]
  },
  {
   "cell_type": "markdown",
   "metadata": {
    "heading_collapsed": true
   },
   "source": [
    "# Confidence Intervals"
   ]
  },
  {
   "cell_type": "markdown",
   "metadata": {
    "heading_collapsed": true,
    "hidden": true
   },
   "source": [
    "## Learning Goals"
   ]
  },
  {
   "cell_type": "markdown",
   "metadata": {
    "hidden": true
   },
   "source": [
    "- Describe the use of confidence intervals\n",
    "- Construct confidence intervals for different types of distributions:\n",
    "    - normal\n",
    "    - $t$\n"
   ]
  },
  {
   "cell_type": "code",
   "execution_count": 1,
   "metadata": {
    "hidden": true
   },
   "outputs": [],
   "source": [
    "import numpy as np\n",
    "from scipy import stats\n",
    "from matplotlib import pyplot as plt\n",
    "import seaborn as sns\n",
    "import pandas as pd\n",
    "from math import gamma\n",
    "%matplotlib inline"
   ]
  },
  {
   "cell_type": "markdown",
   "metadata": {
    "heading_collapsed": true
   },
   "source": [
    "# Motivation & Intuition"
   ]
  },
  {
   "cell_type": "markdown",
   "metadata": {
    "hidden": true
   },
   "source": [
    "Ever have an appointment with the cable company to setup your cable and/or internet?\n",
    "\n",
    "![xfinity logo](https://upload.wikimedia.org/wikipedia/en/6/65/Xfinity_2017.svg)"
   ]
  },
  {
   "cell_type": "markdown",
   "metadata": {
    "hidden": true
   },
   "source": [
    "What did they tell you when they scheduled that appointment? \n",
    "\n",
    "Something like\n",
    "> We'll be at your home between 7am to 8pm "
   ]
  },
  {
   "cell_type": "markdown",
   "metadata": {
    "hidden": true
   },
   "source": [
    "And they're usually right. This is close to how we use **confidence intervals**"
   ]
  },
  {
   "cell_type": "markdown",
   "metadata": {
    "heading_collapsed": true,
    "hidden": true
   },
   "source": [
    "## Balancing Precision and Uncertainty"
   ]
  },
  {
   "cell_type": "markdown",
   "metadata": {
    "hidden": true
   },
   "source": [
    "When we sample a population, we'd like to use the sample to tell us something about the population. But we're never 100% sure that the sample statistic (like the mean) is reflective of the population's true value. Maybe we sampled a bunch of weird data points.\n",
    "\n",
    "There is a **trade-off** here between precision and certainty: The more precise we are in our estimate of a population parameter, the less certain we can be in our estimate, and vice versa.\n",
    "\n",
    "Sometimes it's important to be certain, and so we'll make our estimates relatively imprecise (like a window for an appointment to hook up cable). Other times it's important to be precise, and so we'll sacrifice a level of certainty for that precision."
   ]
  },
  {
   "cell_type": "markdown",
   "metadata": {
    "heading_collapsed": true,
    "hidden": true
   },
   "source": [
    "### 🧠 Knowledge Check"
   ]
  },
  {
   "cell_type": "markdown",
   "metadata": {
    "hidden": true
   },
   "source": [
    "> Say we get a sample from our population and measure the mean. What factors would make us more or less confident in drawing conclusions about the population?"
   ]
  },
  {
   "cell_type": "markdown",
   "metadata": {
    "heading_collapsed": true,
    "hidden": true
   },
   "source": [
    "### Using Confidence Intervals to Drive that Balance"
   ]
  },
  {
   "cell_type": "markdown",
   "metadata": {
    "hidden": true
   },
   "source": [
    "> Because sample statistics are imperfect representations of the true population values, it is often appropriate to state these estimates with **confidence intervals**."
   ]
  },
  {
   "cell_type": "markdown",
   "metadata": {
    "heading_collapsed": true,
    "hidden": true
   },
   "source": [
    "### Scenario: I Have a Sweet Tooth 🦷"
   ]
  },
  {
   "cell_type": "markdown",
   "metadata": {
    "hidden": true
   },
   "source": [
    "<img src=\"https://upload.wikimedia.org/wikipedia/commons/e/e4/JellyBellyPile.JPG\" width=50%/>"
   ]
  },
  {
   "cell_type": "markdown",
   "metadata": {
    "hidden": true
   },
   "source": [
    "> * Big bag of jelly beans (Population): $10,000$ jelly beans\n",
    "> * Weigh a sample of $50$ jelly beans\n",
    ">     - Average weight is $1.25$ grams"
   ]
  },
  {
   "cell_type": "markdown",
   "metadata": {
    "hidden": true
   },
   "source": [
    "Can I take this data as a **good estimate** of the average weight over the whole *population* of jelly beans?"
   ]
  },
  {
   "cell_type": "markdown",
   "metadata": {
    "hidden": true
   },
   "source": [
    "In a word, yes. (What else do I have to go on!?) \n",
    "\n",
    "But how do I express how close this estimate is to the population?"
   ]
  },
  {
   "cell_type": "markdown",
   "metadata": {
    "heading_collapsed": true,
    "hidden": true
   },
   "source": [
    "#### Solution"
   ]
  },
  {
   "cell_type": "markdown",
   "metadata": {
    "hidden": true
   },
   "source": [
    "Natural idea: I'll say I'm _confident_ that the real population value lies in some neighborhood or **interval** around the value I measured from my sample."
   ]
  },
  {
   "cell_type": "markdown",
   "metadata": {
    "hidden": true
   },
   "source": [
    "![](img/heres_your_estimate.gif)"
   ]
  },
  {
   "cell_type": "markdown",
   "metadata": {
    "hidden": true
   },
   "source": [
    "Notice:\n",
    "\n",
    "- Larger samples → more confident estimate represents population\n",
    "- Larger intervals →  more confident true population value falling within interval"
   ]
  },
  {
   "cell_type": "markdown",
   "metadata": {
    "heading_collapsed": true,
    "hidden": true
   },
   "source": [
    "## Key Points"
   ]
  },
  {
   "cell_type": "markdown",
   "metadata": {
    "hidden": true
   },
   "source": [
    "- **Sample statistics** are _supplemented_ with **confidence intervals** to approximate the population\n",
    "- Generally believe **sample statistic** is in the _neighborhood_ of true population's statistic\n",
    "- The larger the sample, the less likely we got all the \"weirdo\" data points from the population\n",
    "- We **trade certainty with precision** by expanding our interval\n",
    "- Taking multiple samples (experiments) allows us more examples of where the true population statistic lies"
   ]
  },
  {
   "cell_type": "markdown",
   "metadata": {
    "heading_collapsed": true
   },
   "source": [
    "# Constructing Confidence Intervals"
   ]
  },
  {
   "cell_type": "markdown",
   "metadata": {
    "hidden": true
   },
   "source": [
    "> **Confidence interval** will depend on the statistics of our sample: \n",
    "> * Our measured/observed **sample mean**\n",
    "> * Our **sample size**\n",
    "> * Also depends on the underlying distribution of our data \n",
    ">     - _Is it a normal distribution?_"
   ]
  },
  {
   "cell_type": "markdown",
   "metadata": {
    "hidden": true
   },
   "source": [
    "There are a few methods in constructing a confidence interval. We'll go over two common methods, involving the normal curve (Gaussian method) and a method involving a new distribution called the _$t$-distribution_."
   ]
  },
  {
   "cell_type": "markdown",
   "metadata": {
    "hidden": true
   },
   "source": [
    "> **ASIDE: Bootstrap Method**\n",
    ">\n",
    "> There are a few ways to get a confidence interval and one way is to use a **bootstrap** method. We essentially simulate sampling the population with the sample we actually made.\n",
    ">\n",
    "> There is a [_Level Up section on this method_](#Level-Up:-Bootstrap) if you're interested in what this might look like."
   ]
  },
  {
   "cell_type": "markdown",
   "metadata": {
    "heading_collapsed": true,
    "hidden": true
   },
   "source": [
    "## Gaussian Method: Compare Sample with the Normal Curve "
   ]
  },
  {
   "cell_type": "markdown",
   "metadata": {
    "hidden": true
   },
   "source": [
    "> If our data are **normally** distributed, then we can use the shape of the normal curve to help us"
   ]
  },
  {
   "cell_type": "markdown",
   "metadata": {
    "hidden": true
   },
   "source": [
    "![Gaussian distribution with percent](https://upload.wikimedia.org/wikipedia/commons/8/8c/Standard_deviation_diagram.svg)"
   ]
  },
  {
   "cell_type": "markdown",
   "metadata": {
    "hidden": true
   },
   "source": [
    "* Assume confidence interval will be **centered on our sample mean**\n",
    "* Endpoints are based on number of $z$-scores left & right of mean given by the **standard error**"
   ]
  },
  {
   "cell_type": "markdown",
   "metadata": {
    "hidden": true
   },
   "source": [
    "> **Standard Error** ($s_\\bar{x}$ or $\\hat{\\sigma_\\bar{x}}$): The estimate of the population variance changes by the overall variance of the sample and the size of the sample\n",
    ">\n",
    "> $$\n",
    "\\large \\sigma \\approx \\hat{\\sigma_\\bar{x}} = \\frac{\\sigma_x}{\\sqrt{n}} \\\\\n",
    "\\text{or} \\\\\n",
    " \\large \\sigma  \\approx  s_\\bar{x} = \\frac{s_x}{\\sqrt{n}}\n",
    "$$\n",
    ">\n",
    "> Note that the $x$ subscript reminds us this is derived from the sample"
   ]
  },
  {
   "cell_type": "markdown",
   "metadata": {
    "hidden": true
   },
   "source": [
    "The number of steps we take from the mean is determined by which **level of confidence** we want attached to our interval. In particular, we take $z$-many steps, where $z$ is the (two-tailed) $z$-score that corresponds to our chosen level of confidence.\n",
    "\n",
    "If our data are **not** normally distributed, then there are several strategies we might try, some of which ultimately depend on some connection to the normal distribution, like a strategy that appeals to the Central Limit Theorem."
   ]
  },
  {
   "cell_type": "markdown",
   "metadata": {
    "heading_collapsed": true,
    "hidden": true
   },
   "source": [
    "### Confidence Intervals for Normally Distributed Data"
   ]
  },
  {
   "cell_type": "markdown",
   "metadata": {
    "hidden": true
   },
   "source": [
    "Let's look at an example with data we assume to be normally distributed:"
   ]
  },
  {
   "cell_type": "code",
   "execution_count": 2,
   "metadata": {
    "hidden": true
   },
   "outputs": [],
   "source": [
    "# A normally distributed variable with a population size of 1000\n",
    "\n",
    "population = list(stats.norm.rvs(size=1000,\n",
    "                          random_state=42))"
   ]
  },
  {
   "cell_type": "code",
   "execution_count": 3,
   "metadata": {
    "hidden": true
   },
   "outputs": [
    {
     "data": {
      "text/plain": [
       "0.01933205582232549"
      ]
     },
     "execution_count": 3,
     "metadata": {},
     "output_type": "execute_result"
    }
   ],
   "source": [
    "# Let's calculate the population mean.\n",
    "\n",
    "pop_mean = np.mean(population)\n",
    "pop_mean"
   ]
  },
  {
   "cell_type": "code",
   "execution_count": 4,
   "metadata": {
    "hidden": true
   },
   "outputs": [
    {
     "data": {
      "text/plain": [
       "0.9787262077473543"
      ]
     },
     "execution_count": 4,
     "metadata": {},
     "output_type": "execute_result"
    }
   ],
   "source": [
    "# And the population standard deviation.\n",
    "\n",
    "pop_std = np.std(population)\n",
    "pop_std"
   ]
  },
  {
   "cell_type": "code",
   "execution_count": 5,
   "metadata": {
    "hidden": true
   },
   "outputs": [
    {
     "data": {
      "image/png": "[encoded data removed]",
      "text/plain": [
       "<Figure size 432x288 with 1 Axes>"
      ]
     },
     "metadata": {
      "needs_background": "light"
     },
     "output_type": "display_data"
    }
   ],
   "source": [
    "# Visualizing population (approximately normal)\n",
    "f, ax = plt.subplots()\n",
    "ax = sns.kdeplot(population, ax=ax, label='Population PDF')\n",
    "plt.axvline(pop_mean, ls='-.', c='r', label='$\\mu$')\n",
    "\n",
    "std_label = f'$\\mu \\pm\\sigma$: ({pop_mean-pop_std:.3f},{pop_mean+pop_std:.3f})'\n",
    "plt.axvline(pop_mean-pop_std, ls='--', c='pink')\n",
    "plt.axvline(pop_mean+pop_std, ls='--', c='pink', label=std_label)\n",
    "ax.legend()\n",
    "plt.tight_layout()"
   ]
  },
  {
   "cell_type": "markdown",
   "metadata": {
    "hidden": true
   },
   "source": [
    "Let's say we take a sample of 50 from our population and that we want a 90%-confidence interval for our estimate of the population mean. "
   ]
  },
  {
   "cell_type": "code",
   "execution_count": 6,
   "metadata": {
    "hidden": true
   },
   "outputs": [
    {
     "data": {
      "text/plain": [
       "0.17715311316172172"
      ]
     },
     "execution_count": 6,
     "metadata": {},
     "output_type": "execute_result"
    }
   ],
   "source": [
    "# Take a sample from the population\n",
    "np.random.seed(42)\n",
    "sample = np.random.choice(a=population, size=50)\n",
    "\n",
    "# Find the sample mean\n",
    "sample_mean = np.mean(sample)\n",
    "sample_mean"
   ]
  },
  {
   "cell_type": "markdown",
   "metadata": {
    "hidden": true
   },
   "source": [
    "The $z$-score that corresponds to a 90%-confidence interval can be calculated.\n",
    "In this case, we want 5% on the left, 5% on the right \n",
    "\n",
    "![](https://upload.wikimedia.org/wikipedia/commons/7/7f/Confidence_Interval_90P.png)"
   ]
  },
  {
   "cell_type": "code",
   "execution_count": 7,
   "metadata": {
    "hidden": true
   },
   "outputs": [
    {
     "data": {
      "text/plain": [
       "1.6448536269514722"
      ]
     },
     "execution_count": 7,
     "metadata": {},
     "output_type": "execute_result"
    }
   ],
   "source": [
    "# This gives the z-score for the 95th-percentile\n",
    "z = stats.norm.ppf(0.95)\n",
    "z"
   ]
  },
  {
   "cell_type": "code",
   "execution_count": 8,
   "metadata": {
    "hidden": true
   },
   "outputs": [
    {
     "data": {
      "text/plain": [
       "0.13841278768462958"
      ]
     },
     "execution_count": 8,
     "metadata": {},
     "output_type": "execute_result"
    }
   ],
   "source": [
    "# Finding standard error\n",
    "standard_error = pop_std / np.sqrt(50)\n",
    "standard_error"
   ]
  },
  {
   "cell_type": "markdown",
   "metadata": {},
   "source": [
    "Once we have the mean, z, and standard error, we can calculate the CI:\n",
    "\n",
    "left endpt.: $\\bar{x} - z\\times\\frac{\\sigma}{\\sqrt{n}}$ <br/>\n",
    "right endpt.: $\\bar{x} + z\\times\\frac{\\sigma}{\\sqrt{n}}$"
   ]
  },
  {
   "cell_type": "code",
   "execution_count": 9,
   "metadata": {},
   "outputs": [
    {
     "data": {
      "text/plain": [
       "0.22766877583952705"
      ]
     },
     "execution_count": 9,
     "metadata": {},
     "output_type": "execute_result"
    }
   ],
   "source": [
    "z * standard_error"
   ]
  },
  {
   "cell_type": "code",
   "execution_count": 10,
   "metadata": {},
   "outputs": [
    {
     "data": {
      "text/plain": [
       "(-0.05051566267780533, 0.40482188900124877)"
      ]
     },
     "execution_count": 10,
     "metadata": {},
     "output_type": "execute_result"
    }
   ],
   "source": [
    "# Finding confidence interval\n",
    "(sample_mean - z * standard_error, sample_mean + z * standard_error)"
   ]
  },
  {
   "cell_type": "markdown",
   "metadata": {
    "hidden": true
   },
   "source": [
    "Thus we'd report our estimate of the population mean as $0.177 \\pm 0.228$, or, equivalently, as $(-0.051, 0.405)$. Note that the true population mean of $0.0193$ is in fact in this range."
   ]
  },
  {
   "cell_type": "markdown",
   "metadata": {
    "heading_collapsed": true,
    "hidden": true
   },
   "source": [
    "#### 🧠 Knowledge Check"
   ]
  },
  {
   "cell_type": "markdown",
   "metadata": {
    "hidden": true
   },
   "source": [
    "> What if I wanted an 80%-confidence interval?"
   ]
  },
  {
   "cell_type": "markdown",
   "metadata": {
    "heading_collapsed": true,
    "hidden": true
   },
   "source": [
    "## $t$-Distribution Method: When Sample isn't Normal"
   ]
  },
  {
   "cell_type": "markdown",
   "metadata": {
    "hidden": true
   },
   "source": [
    "Formally called the \"Student's $t$-distribution\" by William Gosset in 1908"
   ]
  },
  {
   "cell_type": "markdown",
   "metadata": {
    "hidden": true
   },
   "source": [
    "![imgguiness](../images/guiness.png)"
   ]
  },
  {
   "cell_type": "markdown",
   "metadata": {
    "hidden": true
   },
   "source": [
    "Similar to normal curve, but drops off less quickly at the tails (less certain that the mean is the \"actual\" mean)\n",
    "\n",
    "More **degrees of freedom** (essentially more data; more independent ways to vary) --> closer to a normal curve"
   ]
  },
  {
   "cell_type": "markdown",
   "metadata": {
    "hidden": true
   },
   "source": [
    "PDF of $t$-distribution: ${\\frac {\\Gamma \\left({\\frac {\\nu +1}{2}}\\right)}{{\\sqrt {\\nu \\pi }}\\,\\Gamma \\left({\\frac {\\nu }{2}}\\right)}}\\left(1+{\\frac {x^{2}}{\\nu }}\\right)^{-{\\frac {\\nu +1}{2}}}\\!$, where $\\Gamma$ denotes the [Gamma Function](https://en.wikipedia.org/wiki/Gamma_function).\n",
    "\n",
    "parameter: $\\nu > 0$ where $\\nu$ is degrees of freedom (n-1)\n",
    "\n",
    "**$t$ distribution becomes closer to the normal distribution ($z$ distribution) as n increases**\n",
    "![zvt](./images/z_vs_t.png)"
   ]
  },
  {
   "cell_type": "markdown",
   "metadata": {
    "hidden": true
   },
   "source": [
    "We can use the normal distribution when either:\n",
    "* the population standard deviation is known\n",
    "* the sample size is greater than 30.\n",
    "\n",
    "If **neither** of these holds true, we need to use the **$t$-distribution**. The $t$-distribution is wider and has different critical values for different sample sizes."
   ]
  },
  {
   "cell_type": "code",
   "execution_count": null,
   "metadata": {
    "hidden": true
   },
   "outputs": [],
   "source": [
    "fig, ax = plt.subplots(7, figsize=(10, 20))\n",
    "\n",
    "X = np.linspace(-10, 10, 201)\n",
    "nus = np.arange(2, 9)\n",
    "y_norm = 1 / np.sqrt(2*np.pi) * np.exp(-0.5 * X**2)\n",
    "\n",
    "for j in range(7):\n",
    "    y = gamma((nus[j]+1) / 2) / (np.sqrt(np.pi*nus[j]) * gamma(nus[j] / 2)) *\\\n",
    "(1 + X**2/nus[j])**((-nus[j]+1) / 2)\n",
    "    ax[j].plot(X, y, label=fr't-Distribution, $\\nu$ = {nus[j]}')\n",
    "    ax[j].plot(X, y_norm, label='Normal Distribution')\n",
    "    ax[j].legend();"
   ]
  },
  {
   "cell_type": "markdown",
   "metadata": {
    "heading_collapsed": true,
    "hidden": true
   },
   "source": [
    "### Confidence Intervals for $t$-Distribution"
   ]
  },
  {
   "cell_type": "markdown",
   "metadata": {
    "hidden": true
   },
   "source": [
    "The construction of confidence intervals for the $t$-distribution is similar to how they are made for the normal distribution. But instead of $z$-scores, we'll have $t$-scores. And if we don't have access to the population standard deviation, we'll make use of the sample standard deviation instead.\n",
    "\n",
    "left endpt.: $\\bar{x} - t\\times\\frac{s}{\\sqrt{n}}$ <br/>\n",
    "right endpt.: $\\bar{x} + t\\times\\frac{s}{\\sqrt{n}}$\n",
    "\n",
    "Let's use the same example from above, this time creating a 90% CI using the t-distribution."
   ]
  },
  {
   "cell_type": "code",
   "execution_count": null,
   "metadata": {},
   "outputs": [],
   "source": [
    "# Find the t-score, specifying degrees of freedom\n",
    "t = stats.t.ppf(0.95, df=50-1)\n",
    "t"
   ]
  },
  {
   "cell_type": "code",
   "execution_count": null,
   "metadata": {},
   "outputs": [],
   "source": [
    "# Calculate the confidence interval\n",
    "(sample_mean - t * standard_error, sample_mean + t * standard_error)"
   ]
  },
  {
   "cell_type": "markdown",
   "metadata": {},
   "source": [
    "Note that because we have 50 items in our sample, this answer is not very different using the t-distribution compared to the normal distribution.\n",
    "\n",
    "#### `stats.t.interval` Interface\n",
    "\n",
    "There is also an alternative interface for calculating the confidence interval if we don't need to access the t-statistic directly."
   ]
  },
  {
   "cell_type": "code",
   "execution_count": null,
   "metadata": {},
   "outputs": [],
   "source": [
    "stats.t.interval(\n",
    "    alpha=0.9,           # Confidence level\n",
    "    df=50-1,             # Degrees of freedom\n",
    "    loc=sample_mean,     # Sample mean\n",
    "    scale=standard_error # Unit scale for t-distribution\n",
    ")"
   ]
  },
  {
   "cell_type": "markdown",
   "metadata": {
    "heading_collapsed": true,
    "hidden": true
   },
   "source": [
    "### $t$-Distribution Examples"
   ]
  },
  {
   "cell_type": "markdown",
   "metadata": {
    "heading_collapsed": true,
    "hidden": true
   },
   "source": [
    "#### Generated Normal Samples"
   ]
  },
  {
   "cell_type": "markdown",
   "metadata": {
    "hidden": true
   },
   "source": [
    "Let's play around with making different confidence intervals for different sample sizes"
   ]
  },
  {
   "cell_type": "code",
   "execution_count": null,
   "metadata": {
    "hidden": true
   },
   "outputs": [],
   "source": [
    "# samples = np.random.normal(54, 17, size=100000)\n",
    "# samples = np.random.normal(54, 17, size=500)\n",
    "samples = np.random.normal(54, 17, size=5)\n",
    "mean = samples.mean()\n",
    "\n",
    "pop_ages = pd.DataFrame(samples)\n",
    "pop_ages.hist(bins=100,range=(-20,120),figsize=(9,9))\n",
    "plt.axvline(mean, linewidth=3, ls='--', c='r', label=f'$\\mu$:{mean:.1f}')\n",
    "plt.legend()\n",
    "plt.show()\n",
    "\n",
    "pop_ages.describe()"
   ]
  },
  {
   "cell_type": "code",
   "execution_count": null,
   "metadata": {
    "hidden": true
   },
   "outputs": [],
   "source": [
    "# Min and Max of Confidence Interval\n",
    "stats.t.interval(alpha = 0.95,          \n",
    "                 df = len(samples)-1,    \n",
    "                 loc = samples.mean(),\n",
    "                 scale = stats.sem(samples))    "
   ]
  },
  {
   "cell_type": "markdown",
   "metadata": {
    "heading_collapsed": true,
    "hidden": true
   },
   "source": [
    "#### Scenario"
   ]
  },
  {
   "cell_type": "markdown",
   "metadata": {
    "hidden": true
   },
   "source": [
    "You are inspecting a hardware factory and want to construct a 90% confidence interval of acceptable screw lengths. You draw a sample of 30 screws and calculate their mean length as 4.8 centimeters and the standard deviation as 0.4 centimeters. What are the bounds of your confidence interval?"
   ]
  },
  {
   "cell_type": "code",
   "execution_count": null,
   "metadata": {
    "hidden": true
   },
   "outputs": [],
   "source": [
    "n = 30\n",
    "mean = 4.8\n",
    "t_value = stats.t.ppf(0.95, n-1)\n",
    "margin_error = t_value * 0.4/(n**0.5)\n",
    "confidence_interval = (mean - margin_error, mean + margin_error)\n",
    "\n",
    "confidence_interval"
   ]
  },
  {
   "cell_type": "code",
   "execution_count": null,
   "metadata": {
    "hidden": true
   },
   "outputs": [],
   "source": [
    "stats.t(loc=4.8, scale=0.4/(30**0.5), df=29).interval(alpha=0.9)"
   ]
  },
  {
   "cell_type": "markdown",
   "metadata": {
    "heading_collapsed": true
   },
   "source": [
    "# Interpreting Confidence Intervals"
   ]
  },
  {
   "cell_type": "markdown",
   "metadata": {
    "hidden": true
   },
   "source": [
    "Wrong:\n",
    "> There is a 95% probability that the mean age is between 26.3 and 28.3\n",
    "\n",
    "Correct:\n",
    "> If we find 100 (random) samples and create confidence intervals, we expect 95 intervals would contain the true mean of population age.\n",
    "\n",
    "> We are confident in this interval because we expect that a true population mean outside of this interval would produce these results 5% or less of the time. In other words, only an unlikely (but not impossible) sampling event could have caused us to calculate this interval, if the true mean is outside of this interval.\n"
   ]
  },
  {
   "cell_type": "markdown",
   "metadata": {},
   "source": [
    "**The true population mean is a specific value and we do not know what it is.** The confidence level you choose is a question of how often you are willing to find an interval that does not include the true population mean, but it doesn't tell you whether this particular sample + interval calculation gave you the \"right\" answer."
   ]
  },
  {
   "cell_type": "markdown",
   "metadata": {
    "heading_collapsed": true,
    "hidden": true
   },
   "source": [
    "## Note on Notation:"
   ]
  },
  {
   "cell_type": "markdown",
   "metadata": {
    "hidden": true
   },
   "source": [
    "\"we found our 95% confidence interval for ages to be from 26.3 and 28.3\"\n",
    "\n",
    "OR \n",
    "\n",
    "\"we are 95% confident that the average age falls between 26.3 and 28.3\""
   ]
  },
  {
   "cell_type": "markdown",
   "metadata": {},
   "source": [
    "## A Visual Interpretation of CIs"
   ]
  },
  {
   "cell_type": "code",
   "execution_count": null,
   "metadata": {},
   "outputs": [],
   "source": [
    "# This function displays num_samples-many confidence\n",
    "# intervals for an input population, sample_size, and\n",
    "# confidence_level.\n",
    "\n",
    "def ci_plotter(population, sample_size=20, num_samples=20, confidence_level=0.95):\n",
    "    from scipy import stats\n",
    "    intervals = []\n",
    "    for _ in range(num_samples): # number of intervals\n",
    "        sample = np.random.choice(population, sample_size)\n",
    "        step = np.std(population) / np.sqrt(sample_size) # standard error\n",
    "        semi_int_size = step * stats.norm.ppf(1 - (1-confidence_level)/2)\n",
    "        \n",
    "        x_min = np.mean(sample) - semi_int_size # left endpt. of interval\n",
    "        x_max = np.mean(sample) + semi_int_size # right endpt. of interval\n",
    "        intervals.append(np.linspace(x_min, x_max, 30)) # add interval\n",
    "                                                        # to intervals\n",
    "    fig, ax = plt.subplots(figsize=(10, 10))\n",
    "    ax.plot(intervals, range(1, num_samples+1), '.') # plot intervals evenly and\n",
    "                                                        # vertically\n",
    "    ax.vlines(np.mean(population), 0, num_samples+1, lw=3);"
   ]
  },
  {
   "cell_type": "code",
   "execution_count": null,
   "metadata": {},
   "outputs": [],
   "source": [
    "ci_plotter(population=population)"
   ]
  },
  {
   "cell_type": "markdown",
   "metadata": {
    "heading_collapsed": true
   },
   "source": [
    "# Exercise Time 💪🏼"
   ]
  },
  {
   "cell_type": "code",
   "execution_count": null,
   "metadata": {
    "hidden": true
   },
   "outputs": [],
   "source": [
    "# Your turn!\n",
    "\n",
    "# You're weighing walruses in the Arctic in the attempt to estimate\n",
    "# the mean weight of the Canadian walrus population. You have a sample\n",
    "# of 30 walrus weights. The mean of the sample is 2000 lbs. and the\n",
    "# standard deviation is 200 lbs. Calculate the 80%-confidence interval.\n",
    "# Calculate the 70%-confidence interval. How do they compare to the\n",
    "# normal-distribution CIs? (To calculate the latter, just use the \n",
    "# sample standard deviation.)\n",
    "\n",
    "\n",
    "\n",
    "\n"
   ]
  },
  {
   "cell_type": "markdown",
   "metadata": {},
   "source": [
    "<details>\n",
    "    <summary>Answer</summary>\n",
    "<code># statistics\n",
    "n = 30\n",
    "x_bar = 2000\n",
    "s = 200\n",
    "# calculate t-values\n",
    "t_value80 = stats.t.ppf(0.9, n-1)\n",
    "t_value70 = stats.t.ppf(0.85, n-1)\n",
    "# calculate t-margins of error\n",
    "margin_error80 = t_value80 * 200/(n**0.5)\n",
    "margin_error70 = t_value70 * 200/(n**0.5)\n",
    "# calculate 70%- and 80%-intervals\n",
    "conf_int80 = (x_bar - margin_error80, x_bar + margin_error80)\n",
    "conf_int70 = (x_bar - margin_error70, x_bar + margin_error70)\n",
    "# calculate z-values\n",
    "z_score80 = stats.norm.ppf(0.9)\n",
    "z_score70 = stats.norm.ppf(0.85)\n",
    "# calculate z-margins of error\n",
    "error_norm80 = z_score80 * 200/(n**0.5)\n",
    "error_norm70 = z_score70 * 200/(n**0.5)\n",
    "# calculate 70%- and 80%-intervals\n",
    "conf_norm80 = (x_bar - error_norm80, x_bar + error_norm80)\n",
    "conf_norm70 = (x_bar - error_norm70, x_bar + error_norm70)\n",
    "# print out results\n",
    "print(conf_int80)\n",
    "print(conf_int70)\n",
    "print(conf_norm80)\n",
    "print(conf_norm70)</code>"
   ]
  },
  {
   "cell_type": "markdown",
   "metadata": {
    "heading_collapsed": true
   },
   "source": [
    "# Level Up: Confidence Intervals for Non-Normally Distributed Data"
   ]
  },
  {
   "cell_type": "markdown",
   "metadata": {
    "hidden": true
   },
   "source": [
    "One of the most commonly used strategies for dealing with non-normally distributed data is to find a way to reduce the problem to one that involves normally distributed data!\n",
    "\n",
    "[Here](https://file.scirp.org/Html/3-1240887_76758.htm) is a review article that compares several different strategies. (Note that it ultimately recommends a sort of Bayesian method. We'll get to Bayesian reasoning in a later lesson.)"
   ]
  },
  {
   "cell_type": "markdown",
   "metadata": {
    "heading_collapsed": true
   },
   "source": [
    "# Level Up: Bootstrap"
   ]
  },
  {
   "cell_type": "markdown",
   "metadata": {
    "hidden": true
   },
   "source": [
    "One method of getting the confidence interval is to use **bootstrap** sampling. The idea is that we sample our sample to get an idea of what extreme values we could have got when sampling the population. With this, we can construct a confidence interval for our sample of the population \n",
    "\n",
    "The important to realize is we _only use our sample_ to determine the confidence interval."
   ]
  },
  {
   "cell_type": "markdown",
   "metadata": {
    "hidden": true
   },
   "source": [
    "![Sampling from population](https://github.com/flatiron-school/ds-central_limit_theorem/raw/008cecd491af6cf1df358903b6df622aac54c999/img/sample_pop.png)"
   ]
  },
  {
   "cell_type": "markdown",
   "metadata": {
    "hidden": true
   },
   "source": [
    "Below is an example of how this can be done."
   ]
  },
  {
   "cell_type": "markdown",
   "metadata": {
    "heading_collapsed": true,
    "hidden": true
   },
   "source": [
    "## Example"
   ]
  },
  {
   "cell_type": "code",
   "execution_count": null,
   "metadata": {
    "hidden": true
   },
   "outputs": [],
   "source": [
    "# External file\n",
    "titanic_file = 'https://github.com/MrGeislinger/flatiron-school-data-science-curriculum-resources/raw/main/ProbabilityAndStats/StatisticalDistributions/data/titanic.csv'\n",
    "df_titanic = pd.read_csv(titanic_file)\n",
    "ages = df_titanic.Age.dropna()"
   ]
  },
  {
   "cell_type": "code",
   "execution_count": null,
   "metadata": {
    "hidden": true
   },
   "outputs": [],
   "source": [
    "sns.distplot(ages)\n",
    "display(np.min(ages), np.max(ages), np.std(ages))"
   ]
  },
  {
   "cell_type": "code",
   "execution_count": null,
   "metadata": {
    "hidden": true
   },
   "outputs": [],
   "source": [
    "# Get an example sample\n",
    "sample = ages.sample(10, replace=True)\n",
    "print(sample.mean())\n",
    "display(sample)\n"
   ]
  },
  {
   "cell_type": "code",
   "execution_count": null,
   "metadata": {
    "hidden": true
   },
   "outputs": [],
   "source": [
    "def get_all_sample_means(data, n=10, n_samples=100):\n",
    "    '''\n",
    "    '''\n",
    "    #\n",
    "    samples = np.random.choice(data,size=(n_samples,n))\n",
    "    means = np.mean(samples, axis=1)\n",
    "    #\n",
    "    return means"
   ]
  },
  {
   "cell_type": "code",
   "execution_count": null,
   "metadata": {
    "hidden": true
   },
   "outputs": [],
   "source": [
    "# Get many samples and their respective means\n",
    "samples = get_all_sample_means(ages,n=10, n_samples=30)\n",
    "samples"
   ]
  },
  {
   "cell_type": "code",
   "execution_count": null,
   "metadata": {
    "hidden": true
   },
   "outputs": [],
   "source": [
    "# See the sample and the full data compared\n",
    "sns.distplot(\n",
    "    samples,    # Shows sample means\n",
    "    kde=False, \n",
    "    hist=False, \n",
    "    rug=True\n",
    ")\n",
    "ax = sns.distplot(ages)\n",
    "ax.vlines(ages.mean(), color='red',ymin=0,ymax=0.05)"
   ]
  },
  {
   "cell_type": "markdown",
   "metadata": {
    "heading_collapsed": true,
    "hidden": true
   },
   "source": [
    "### Finding the Confidence Interval"
   ]
  },
  {
   "cell_type": "code",
   "execution_count": null,
   "metadata": {
    "hidden": true
   },
   "outputs": [],
   "source": [
    "def bootstrap_sample(sample, n_samples=10**4):\n",
    "    '''\n",
    "    '''\n",
    "    #\n",
    "    bs_sample_means = get_all_sample_means(\n",
    "        sample, \n",
    "        n=len(sample),\n",
    "        n_samples=n_samples\n",
    "    )\n",
    "    \n",
    "    return bs_sample_means"
   ]
  },
  {
   "cell_type": "code",
   "execution_count": null,
   "metadata": {
    "hidden": true
   },
   "outputs": [],
   "source": [
    "b_sample_means = bootstrap_sample(sample)\n",
    "display(np.mean(sample))\n",
    "display(b_sample_means)"
   ]
  },
  {
   "cell_type": "code",
   "execution_count": null,
   "metadata": {
    "hidden": true
   },
   "outputs": [],
   "source": [
    "sns.distplot(b_sample_means)\n",
    "plt.axvline(b_sample_means.mean(), color='red')"
   ]
  },
  {
   "cell_type": "code",
   "execution_count": null,
   "metadata": {
    "hidden": true
   },
   "outputs": [],
   "source": [
    "np.mean(b_sample_means)"
   ]
  },
  {
   "cell_type": "code",
   "execution_count": null,
   "metadata": {
    "hidden": true
   },
   "outputs": [],
   "source": [
    "two_std = np.std(b_sample_means)*2\n",
    "(np.mean(sample)-two_std, np.mean(sample)+two_std)"
   ]
  }
 ],
 "metadata": {
  "hide_input": false,
  "kernelspec": {
   "display_name": "Python 3",
   "language": "python",
   "name": "python3"
  },
  "language_info": {
   "codemirror_mode": {
    "name": "ipython",
    "version": 3
   },
   "file_extension": ".py",
   "mimetype": "text/x-python",
   "name": "python",
   "nbconvert_exporter": "python",
   "pygments_lexer": "ipython3",
   "version": "3.7.2"
  },
  "latex_envs": {
   "LaTeX_envs_menu_present": true,
   "autoclose": false,
   "autocomplete": true,
   "bibliofile": "biblio.bib",
   "cite_by": "apalike",
   "current_citInitial": 1,
   "eqLabelWithNumbers": true,
   "eqNumInitial": 1,
   "hotkeys": {
    "equation": "Ctrl-E",
    "itemize": "Ctrl-I"
   },
   "labels_anchors": false,
   "latex_user_defs": false,
   "report_style_numbering": false,
   "user_envs_cfg": false
  },
  "nbTranslate": {
   "displayLangs": [
    "*"
   ],
   "hotkey": "alt-t",
   "langInMainMenu": true,
   "sourceLang": "en",
   "targetLang": "fr",
   "useGoogleTranslate": true
  },
  "toc": {
   "base_numbering": 1,
   "nav_menu": {},
   "number_sections": true,
   "sideBar": true,
   "skip_h1_title": false,
   "title_cell": "Table of Contents",
   "title_sidebar": "TOC",
   "toc_cell": true,
   "toc_position": {
    "height": "920px",
    "left": "565px",
    "top": "167px",
    "width": "324.391px"
   },
   "toc_section_display": true,
   "toc_window_display": false
  }
 },
 "nbformat": 4,
 "nbformat_minor": 2
}
